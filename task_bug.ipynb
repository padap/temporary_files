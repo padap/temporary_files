{
 "cells": [
  {
   "cell_type": "code",
   "execution_count": 1,
   "metadata": {},
   "outputs": [],
   "source": [
    "import random\n",
    "import numpy as np\n",
    "from matplotlib import pyplot as plt\n",
    "%matplotlib inline"
   ]
  },
  {
   "cell_type": "code",
   "execution_count": 8,
   "metadata": {},
   "outputs": [],
   "source": [
    "class graph:\n",
    "    def __init__(self, p):\n",
    "        self.p = p\n",
    "        \n",
    "        \n",
    "    def A(self, dist = 0):\n",
    "        if random.random() < self.p:\n",
    "            return self.B(dist+1)\n",
    "        else:\n",
    "            return self.C(dist+1)\n",
    "\n",
    "        \n",
    "    def B(self, dist):\n",
    "        return dist\n",
    "    \n",
    "    \n",
    "    def C(self, dist):\n",
    "        if random.random() < self.p:\n",
    "            return self.B(dist+1)\n",
    "        else:\n",
    "            return self.A(dist+1)\n",
    "        \n",
    "        \n",
    "    def step(self):\n",
    "        return self.A(0)\n",
    "    \n",
    "    def calculate_mean(self, size = 100000):\n",
    "        return np.array([model.step() for i in range(size)]).mean()"
   ]
  },
  {
   "cell_type": "code",
   "execution_count": 9,
   "metadata": {},
   "outputs": [
    {
     "data": {
      "image/png": "[encoded data removed]",
      "text/plain": [
       "<matplotlib.figure.Figure at 0x1081df208>"
      ]
     },
     "metadata": {},
     "output_type": "display_data"
    }
   ],
   "source": [
    "E_lst, p_lst = [],[]\n",
    "for p in np.linspace(0.1,1 , 50):\n",
    "    model = graph(p)\n",
    "    E_lst.append(model.calculate_mean(size = 10000))\n",
    "    p_lst.append(p)\n",
    "    \n",
    "def f_theory(x):\n",
    "    return 1/x#(x+(1-x)*2*x+(1-x)**2*2)/(1-(1-x)**2)\n",
    "\n",
    "plt.title('Bug task')\n",
    "plt.plot(p_lst, E_lst, '-.',  label = 'model', alpha = 0.5)\n",
    "plt.plot(p_lst, list(map(f_theory, p_lst)), label = 'theory', alpha = 0.5)\n",
    "plt.legend()\n",
    "plt.xlabel('p')\n",
    "plt.ylabel('E[d]')\n",
    "plt.show()"
   ]
  },
  {
   "cell_type": "code",
   "execution_count": null,
   "metadata": {},
   "outputs": [],
   "source": []
  }
 ],
 "metadata": {
  "kernelspec": {
   "display_name": "Python 3",
   "language": "python",
   "name": "python3"
  },
  "language_info": {
   "codemirror_mode": {
    "name": "ipython",
    "version": 3
   },
   "file_extension": ".py",
   "mimetype": "text/x-python",
   "name": "python",
   "nbconvert_exporter": "python",
   "pygments_lexer": "ipython3",
   "version": "3.6.2"
  }
 },
 "nbformat": 4,
 "nbformat_minor": 2
}
